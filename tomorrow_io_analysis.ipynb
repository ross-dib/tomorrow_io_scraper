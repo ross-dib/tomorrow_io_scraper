{
 "cells": [
  {
   "cell_type": "markdown",
   "id": "d4ecea61-ca06-4e02-b671-cea900ff90f1",
   "metadata": {},
   "source": [
    "# Amperon Data Engineering Take Home Assignment"
   ]
  },
  {
   "cell_type": "code",
   "execution_count": null,
   "id": "d3aa84d7-cfea-4eb0-b597-4e8fd50d9023",
   "metadata": {},
   "outputs": [],
   "source": [
    "!pip install ipython-sql\n",
    "!pip install sqlalchemy\n",
    "!pip install psycopg2\n",
    "!pip install pandas\n",
    "!pip install matplotlib"
   ]
  },
  {
   "cell_type": "code",
   "execution_count": null,
   "id": "fc70fb85-a8e1-4e9a-87fa-eb04d927ce7a",
   "metadata": {},
   "outputs": [],
   "source": [
    "import os\n",
    "USERNAME = os.environ['PGUSER']\n",
    "PASSWORD = os.environ['PGPASSWORD']\n",
    "HOST = os.environ['PGHOST']\n",
    "PORT = os.environ['PGPORT']\n",
    "DATABASE = os.environ['PGDATABASE']\n"
   ]
  },
  {
   "cell_type": "code",
   "execution_count": null,
   "id": "a0260374-1bc5-4d91-b595-bf69ea972724",
   "metadata": {},
   "outputs": [],
   "source": [
    "%load_ext sql\n",
    "%sql postgresql://{USERNAME}:{PASSWORD}@{HOST}:{PORT}/{DATABASE}"
   ]
  },
  {
   "cell_type": "code",
   "execution_count": null,
   "id": "b817f569-592a-4c55-8449-54cf977550fa",
   "metadata": {
    "scrolled": true
   },
   "outputs": [],
   "source": [
    "%%sql\n",
    "SELECT *\n",
    "FROM tomorrow_io_timeline_data"
   ]
  },
  {
   "cell_type": "markdown",
   "id": "9efc9716-491f-413f-bdf3-6f71c26bfd04",
   "metadata": {},
   "source": [
    "# What's the latest temperature for each geolocation? What's the latest wind speed?\n"
   ]
  },
  {
   "cell_type": "code",
   "execution_count": null,
   "id": "c5ed2044-0aad-421a-b9a4-0c0fbee2cb73",
   "metadata": {},
   "outputs": [],
   "source": [
    "%%sql\n",
    "SELECT\n",
    "    t.start_time,\n",
    "    t.latitude,\n",
    "    t.longitude,\n",
    "    t.temperature_c,\n",
    "    t.wind_speed\n",
    "FROM\n",
    "    tomorrow_io_timeline_data t\n",
    "JOIN\n",
    "    (\n",
    "        SELECT\n",
    "            latitude,\n",
    "            longitude,\n",
    "            MAX(start_time) AS latest_time\n",
    "        FROM\n",
    "            tomorrow_io_timeline_data\n",
    "        GROUP BY\n",
    "            latitude, longitude\n",
    "    ) subquery\n",
    "ON\n",
    "    t.latitude = subquery.latitude\n",
    "    AND t.longitude = subquery.longitude\n",
    "    AND t.start_time = subquery.latest_time;"
   ]
  },
  {
   "cell_type": "markdown",
   "id": "f9827d18-5eaf-47ae-aa02-158578cd1d39",
   "metadata": {},
   "source": [
    "# Show an hourly time series of temperature from a day ago to 5 days in the future for location: (25.86, -97.42)"
   ]
  },
  {
   "cell_type": "code",
   "execution_count": null,
   "id": "4d4079ab-cd14-412d-afc7-f1d55d267b6c",
   "metadata": {},
   "outputs": [],
   "source": [
    "import pandas as pd\n",
    "from sqlalchemy import create_engine\n",
    "\n",
    "engine = create_engine(f'postgresql://{USERNAME}:{PASSWORD}@{HOST}:{PORT}/{DATABASE}')\n",
    "\n",
    "weather_data = pd.read_sql('SELECT * FROM tomorrow_io_timeline_data', engine)\n",
    "\n",
    "weather_data"
   ]
  },
  {
   "cell_type": "code",
   "execution_count": null,
   "id": "e6d59f4f-11b2-4bd1-9303-15b6c728d1c1",
   "metadata": {},
   "outputs": [],
   "source": [
    "import matplotlib.pyplot as plt\n",
    "latitude = 25.86\n",
    "longitude = -97.42\t\n",
    "\n",
    "query = f\"\"\"\n",
    "SELECT \n",
    "    start_time, \n",
    "    temperature_c \n",
    "FROM \n",
    "    tomorrow_io_timeline_data \n",
    "WHERE \n",
    "    latitude = {latitude}\n",
    "    AND longitude = {longitude}\n",
    "ORDER BY \n",
    "    start_time;\n",
    "\"\"\"\n",
    "\n",
    "df = pd.read_sql(query, engine)\n",
    "\n",
    "plt.figure(figsize=(12, 6))\n",
    "plt.plot(df['start_time'], df['temperature_c'], marker='o', linestyle='-')\n",
    "plt.title(f'Hourly Temperature at location ({latitude}, {longitude})')\n",
    "plt.xlabel('Time')\n",
    "plt.ylabel('Temperature (°C)')\n",
    "plt.grid(True)\n",
    "plt.xticks(rotation=45)\n",
    "plt.tight_layout()\n",
    "plt.show()"
   ]
  }
 ],
 "metadata": {
  "kernelspec": {
   "display_name": "Python 3 (ipykernel)",
   "language": "python",
   "name": "python3"
  },
  "language_info": {
   "codemirror_mode": {
    "name": "ipython",
    "version": 3
   },
   "file_extension": ".py",
   "mimetype": "text/x-python",
   "name": "python",
   "nbconvert_exporter": "python",
   "pygments_lexer": "ipython3",
   "version": "3.12.3"
  }
 },
 "nbformat": 4,
 "nbformat_minor": 5
}
